{
 "cells": [
  {
   "cell_type": "markdown",
   "source": [
    "# Basic double exercises"
   ],
   "metadata": {}
  },
  {
   "cell_type": "code",
   "execution_count": 8,
   "source": [
    "# Exercise 1: \n",
    "\n",
    "# El siguiente código, solicita al usuario ingresar su edad \n",
    "# y le indica sí es mayor o menor de edad.\n",
    "\n",
    "# Sin embargo, el algoritmo tiene un error de lógica, al \n",
    "# ingresar la edad de 18, no la identifica como mayoría de edad.\n",
    "# ¿cuál de las siguientes opciones será la solución?\n",
    "# \n",
    "\n",
    "# Opciones de solución\n",
    "# a) Cambiar el operador de comparación de > a >=\n",
    "# b) Sustituir age por edad\n",
    "# c) Escribir el código completamente en español\n",
    "# d) Escribir el código completamente en inglés\n",
    "\n",
    "#**** Entrada de datos\n",
    "age = int( input( 'Ingrese su edad [entero positivo]: ' ) )\n",
    "\n",
    "# Lógica para determinar la mayoría de edad\n",
    "if age > 18:\n",
    "    print( 'Felicidades ya eres mayor de edad')\n",
    "else:\n",
    "    print( 'Aún no eres mayor de edad.' )"
   ],
   "outputs": [],
   "metadata": {}
  },
  {
   "cell_type": "code",
   "execution_count": null,
   "source": [
    "# Exercise 2: \n",
    "\n",
    "# El siguiente código, solicita al usuario ingresar su edad, \n",
    "# y le indica sí es mayor o igual de 21 años.\n",
    "\n",
    "# Sin embargo, el algoritmo tiene un error de lógica, al \n",
    "# ingresar la edad de 21, no realiza la operación de forma correcta.\n",
    "# ¿cuál de las siguientes opciones será la solución?\n",
    "# \n",
    "\n",
    "# Opciones de solución\n",
    "# a) Cambiar el operador de comparación de > a >=\n",
    "# b) Sustituir age por edad\n",
    "# c) Escribir el código completamente en español\n",
    "# d) Escribir el código completamente en inglés\n",
    "\n",
    "#**** Entrada de datos\n",
    "age = int( input( 'Ingrese su edad [entero positivo]: ' ) )\n",
    "\n",
    "# Lógica para determinar la mayoría de edad\n",
    "if age > 21:\n",
    "    print( 'Felicidades ya eres mayor de 21 años')\n",
    "else:\n",
    "    print( 'Aún no eres mayor de edad.' )"
   ],
   "outputs": [],
   "metadata": {}
  },
  {
   "cell_type": "code",
   "execution_count": 4,
   "source": [
    "\n",
    "# Exercise 3\n",
    "\n",
    "# El siguiente código, solicita al usuaro el ingreso de dos \n",
    "# números enteros positivos y le indica cuál número es el mayor.\n",
    "\n",
    "# El código tiene un error de lógica en la linea del\n",
    "# condicional if. ¿Cuál de los siguientes cambios se\n",
    "# debería realizar en el código para solucionarlo?\n",
    "\n",
    "#*** Opciones de solución ***\n",
    "# a) Cambiar el nombre de las variables a español\n",
    "# b) Escribir el código completo nuevamente\n",
    "# c) En la línea del condicional if, cambiar el operador == por >\n",
    "# d) En la línea del operador elif, cambiar number2 por número 2\n",
    "\n",
    "# Ingreso de datos\n",
    "number1 = int( input( 'Ingrese el primer número entero [>0]: ' ) )\n",
    "number2 = int( input( 'Ingrese el segundo segundo entero [>0]: ' ) )\n",
    "\n",
    "# Presentar en pantalla los números ingresados\n",
    "print( 'Número 1: ', number1 )\n",
    "print( 'Número 2: ', number2 )\n",
    "# Solución\n",
    "\n",
    "# Caso 1: Cuando el primer número es mayor que el segundo\n",
    "if number1 == number2:\n",
    "    print( 'El primer número es mayor' )\n",
    "\n",
    "# Caso 2: Cuando el segundo número es mayor que el primero\n",
    "elif number2 > number1:\n",
    "    print( 'El número 2 es mayor' )\n",
    "\n",
    "# Caso 3: Cuando los números son iguales\n",
    "else:\n",
    "    print( 'Los números son iguales' )"
   ],
   "outputs": [
    {
     "output_type": "stream",
     "name": "stdout",
     "text": [
      "Número 1:  10\n",
      "Número 2:  10\n",
      "Los números son iguales\n"
     ]
    }
   ],
   "metadata": {}
  },
  {
   "cell_type": "code",
   "execution_count": null,
   "source": [
    "# Exercise 4\n",
    "\n",
    "# En cuál de las siguientes opciones se imprime el mensaje:\n",
    "# ¡Hoy es viernes!\n",
    "\n",
    "\n",
    "# Opción a\n",
    "day = 'viernes'\n",
    "if day == 'viernes':\n",
    "    print('¡Hoy es viernes!')\n",
    "\n",
    "# Opción b\n",
    "day = 'viernes'\n",
    "if day == 'lunes':\n",
    "    print('¡Hoy es viernes!')\n",
    "    \n",
    "# Opción c\n",
    "day = 'lunes'\n",
    "if day == 'martes':\n",
    "    print('¡Hoy es martes!')\n",
    "    \n",
    "# Opción d\n",
    "day = 'domingo'\n",
    "if day == 'domingo':\n",
    "    print('¡Hoy es Domingo!')"
   ],
   "outputs": [],
   "metadata": {}
  },
  {
   "cell_type": "code",
   "execution_count": 5,
   "source": [
    "# Exercise 5\n",
    "\n",
    "# ¿Cuál de las siguientes comparaciones, identifica de forma correcta\n",
    "# un número mayor.\n",
    "\n",
    "# Opción a\n",
    "if 5 > 10:\n",
    "    print( 'Es mayor, opción a ' )\n",
    "    \n",
    "# Opción b\n",
    "if 10 > 5:\n",
    "    print( 'Es mayor, opción b' )\n",
    "    \n",
    "# Opción c\n",
    "if 10 == 5:\n",
    "    print('Es mayor, opción c')\n",
    "    \n",
    "# Opción d\n",
    "if 10 <= 5:\n",
    "    print('Es mayor, opción d')"
   ],
   "outputs": [
    {
     "output_type": "stream",
     "name": "stdout",
     "text": [
      "Es mayor\n"
     ]
    }
   ],
   "metadata": {}
  }
 ],
 "metadata": {
  "orig_nbformat": 4,
  "language_info": {
   "name": "python",
   "version": "3.8.3",
   "mimetype": "text/x-python",
   "codemirror_mode": {
    "name": "ipython",
    "version": 3
   },
   "pygments_lexer": "ipython3",
   "nbconvert_exporter": "python",
   "file_extension": ".py"
  },
  "kernelspec": {
   "name": "python3",
   "display_name": "Python 3.8.3 64-bit ('base': conda)"
  },
  "interpreter": {
   "hash": "5449f2acd9e02132ebbb9f20e5d6d30a78e9b9641c289776a1b5ed7e9d647d22"
  }
 },
 "nbformat": 4,
 "nbformat_minor": 2
}