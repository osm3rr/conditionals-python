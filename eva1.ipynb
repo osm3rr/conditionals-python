{
 "cells": [
  {
   "cell_type": "markdown",
   "source": [
    "# Basic double exercises"
   ],
   "metadata": {}
  },
  {
   "cell_type": "code",
   "execution_count": 8,
   "source": [
    "# Exercise 1: \n",
    "\n",
    "# El siguiente código, solicita al usuario ingresar su edad \n",
    "# y le indica sí es mayor o menor de edad.\n",
    "\n",
    "# Sin embargo, el algoritmo tiene un error de lógica, al \n",
    "# ingresar la edad de 18, no la identica como mayor de edad.\n",
    "# ¿cuál de las siguientes opciones será la solución?\n",
    "# \n",
    "\n",
    "#**** Entrada de datos\n",
    "name = input( 'Ingrese su nombre [solo letras]: ' )\n",
    "age = int( input( 'Ingrese su edad [entero positivo]: ' ) )\n",
    "\n",
    "# Lógica para determinar la mayoría de edad\n",
    "if age > 18:\n",
    "    print( f'Felicidades {name}, ya eres mayor de edad')\n",
    "else:\n",
    "    print( f'Aún no eres mayor de edad {name}' )\n",
    "\n",
    "# Opciones\n",
    "# a) Cambiar el operador de comparación a >=\n",
    "# b) Sustituir age por edad\n",
    "# c) Cambiar el operador de comparación a <\n",
    "# d) Cambiar el operador de comparación a <=\n"
   ],
   "outputs": [],
   "metadata": {}
  }
 ],
 "metadata": {
  "orig_nbformat": 4,
  "language_info": {
   "name": "python",
   "version": "3.8.3",
   "mimetype": "text/x-python",
   "codemirror_mode": {
    "name": "ipython",
    "version": 3
   },
   "pygments_lexer": "ipython3",
   "nbconvert_exporter": "python",
   "file_extension": ".py"
  },
  "kernelspec": {
   "name": "python3",
   "display_name": "Python 3.8.3 64-bit ('base': conda)"
  },
  "interpreter": {
   "hash": "5449f2acd9e02132ebbb9f20e5d6d30a78e9b9641c289776a1b5ed7e9d647d22"
  }
 },
 "nbformat": 4,
 "nbformat_minor": 2
}